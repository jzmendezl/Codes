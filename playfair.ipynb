{
 "cells": [
  {
   "cell_type": "code",
   "execution_count": 2,
   "metadata": {},
   "outputs": [],
   "source": [
    "import string\n",
    "\n",
    "\n",
    "def getMatrix(key):\n",
    "    # Create a list of all the letters in the key\n",
    "    letters = list(key)\n",
    "    # Create a list of all the letters in the alphabet\n",
    "    alphabet = list(string.ascii_lowercase)\n",
    "    # Remove the letters in the key from the alphabet\n",
    "    for letter in letters:\n",
    "        alphabet.remove(letter)\n",
    "    # Add the letters in the key to the front of the alphabet\n",
    "    for letter in letters:\n",
    "        alphabet.insert(0, letter)\n",
    "    # Create a list of all the letters in the alphabet\n",
    "    alphabet = list(string.ascii_lowercase)\n",
    "    # Remove the letters in the key from the alphabet\n",
    "    for letter in letters:\n",
    "        alphabet.remove(letter)\n",
    "    # Add the letters in the key to the front of the alphabet\n",
    "    for letter in letters:\n",
    "        alphabet.insert(0, letter)\n",
    "    # Create a matrix of the alphabet\n",
    "    matrix = []\n",
    "    for i in range(0, 5):\n",
    "        matrix.append(alphabet[i * 5 : (i + 1) * 5])\n",
    "    return matrix\n",
    "\n",
    "\n"
   ]
  },
  {
   "cell_type": "code",
   "execution_count": 3,
   "metadata": {},
   "outputs": [
    {
     "ename": "ValueError",
     "evalue": "list.remove(x): x not in list",
     "output_type": "error",
     "traceback": [
      "\u001b[1;31m---------------------------------------------------------------------------\u001b[0m",
      "\u001b[1;31mValueError\u001b[0m                                Traceback (most recent call last)",
      "Cell \u001b[1;32mIn[3], line 1\u001b[0m\n\u001b[1;32m----> 1\u001b[0m getMatrix(\u001b[39m\"\u001b[39;49m\u001b[39mplayfair example\u001b[39;49m\u001b[39m\"\u001b[39;49m)\n",
      "Cell \u001b[1;32mIn[2], line 11\u001b[0m, in \u001b[0;36mgetMatrix\u001b[1;34m(key)\u001b[0m\n\u001b[0;32m      9\u001b[0m \u001b[39m# Remove the letters in the key from the alphabet\u001b[39;00m\n\u001b[0;32m     10\u001b[0m \u001b[39mfor\u001b[39;00m letter \u001b[39min\u001b[39;00m letters:\n\u001b[1;32m---> 11\u001b[0m     alphabet\u001b[39m.\u001b[39;49mremove(letter)\n\u001b[0;32m     12\u001b[0m \u001b[39m# Add the letters in the key to the front of the alphabet\u001b[39;00m\n\u001b[0;32m     13\u001b[0m \u001b[39mfor\u001b[39;00m letter \u001b[39min\u001b[39;00m letters:\n",
      "\u001b[1;31mValueError\u001b[0m: list.remove(x): x not in list"
     ]
    }
   ],
   "source": [
    "getMatrix(\"playfair example\")"
   ]
  }
 ],
 "metadata": {
  "kernelspec": {
   "display_name": "Python 3",
   "language": "python",
   "name": "python3"
  },
  "language_info": {
   "codemirror_mode": {
    "name": "ipython",
    "version": 3
   },
   "file_extension": ".py",
   "mimetype": "text/x-python",
   "name": "python",
   "nbconvert_exporter": "python",
   "pygments_lexer": "ipython3",
   "version": "3.10.11"
  },
  "orig_nbformat": 4
 },
 "nbformat": 4,
 "nbformat_minor": 2
}
